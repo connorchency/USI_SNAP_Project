{
 "cells": [
  {
   "cell_type": "code",
   "execution_count": 1,
   "metadata": {
    "collapsed": true
   },
   "outputs": [],
   "source": [
    "import numpy as np, pandas as pd, pandasql as ps\n",
    "# ! pip install pandasql\n",
    "# run the above line if you do not have pandasql on your device"
   ]
  },
  {
   "cell_type": "code",
   "execution_count": 2,
   "metadata": {
    "collapsed": false
   },
   "outputs": [],
   "source": [
    "df_09 = pd.read_csv(\"Datasets/SNAP/ACS_09_5YR_S2201_with_ann.csv\", skiprows = [1], low_memory= False)\n",
    "df_10 = pd.read_csv(\"Datasets/SNAP/ACS_10_5YR_S2201_with_ann.csv\", skiprows = [1], low_memory= False)\n",
    "df_11 = pd.read_csv(\"Datasets/SNAP/ACS_11_5YR_S2201_with_ann.csv\", skiprows = [1], low_memory= False)\n",
    "df_12 = pd.read_csv(\"Datasets/SNAP/ACS_12_5YR_S2201_with_ann.csv\", skiprows = [1], low_memory= False)\n",
    "df_13 = pd.read_csv(\"Datasets/SNAP/ACS_13_5YR_S2201_with_ann.csv\", skiprows = [1], low_memory= False)\n",
    "df_14 = pd.read_csv(\"Datasets/SNAP/ACS_14_5YR_S2201_with_ann.csv\", skiprows = [1], low_memory= False)\n",
    "df_15 = pd.read_csv(\"Datasets/SNAP/ACS_15_5YR_S2201_with_ann.csv\", skiprows = [1], low_memory= False)"
   ]
  },
  {
   "cell_type": "code",
   "execution_count": 3,
   "metadata": {
    "collapsed": false
   },
   "outputs": [],
   "source": [
    "df_09.columns = df_10.columns"
   ]
  },
  {
   "cell_type": "code",
   "execution_count": 4,
   "metadata": {
    "collapsed": false
   },
   "outputs": [],
   "source": [
    "df_09[\"Year\"] = 2009\n",
    "df_10[\"Year\"] = 2010\n",
    "df_11[\"Year\"] = 2011\n",
    "df_12[\"Year\"] = 2012\n",
    "df_13[\"Year\"] = 2013\n",
    "df_14[\"Year\"] = 2014\n",
    "df_15[\"Year\"] = 2015"
   ]
  },
  {
   "cell_type": "code",
   "execution_count": 5,
   "metadata": {
    "collapsed": false
   },
   "outputs": [
    {
     "data": {
      "text/plain": [
       "['GEO.id',\n",
       " 'GEO.id2',\n",
       " 'GEO.display-label',\n",
       " 'HC01_EST_VC01',\n",
       " 'HC02_EST_VC01',\n",
       " 'HC03_EST_VC01',\n",
       " 'HC01_EST_VC02',\n",
       " 'HC02_EST_VC02',\n",
       " 'HC03_EST_VC02',\n",
       " 'HC01_EST_VC03',\n",
       " 'HC02_EST_VC03',\n",
       " 'HC03_EST_VC03',\n",
       " 'HC01_EST_VC06',\n",
       " 'HC02_EST_VC06',\n",
       " 'HC03_EST_VC06',\n",
       " 'HC01_EST_VC09',\n",
       " 'HC02_EST_VC09',\n",
       " 'HC03_EST_VC09',\n",
       " 'HC01_EST_VC12',\n",
       " 'HC02_EST_VC12',\n",
       " 'HC03_EST_VC12',\n",
       " 'HC01_EST_VC13',\n",
       " 'HC02_EST_VC13',\n",
       " 'HC03_EST_VC13',\n",
       " 'HC01_EST_VC14',\n",
       " 'HC02_EST_VC14',\n",
       " 'HC03_EST_VC14',\n",
       " 'HC01_EST_VC15',\n",
       " 'HC02_EST_VC15',\n",
       " 'HC03_EST_VC15',\n",
       " 'HC01_EST_VC16',\n",
       " 'HC02_EST_VC16',\n",
       " 'HC03_EST_VC16',\n",
       " 'HC01_EST_VC17',\n",
       " 'HC02_EST_VC17',\n",
       " 'HC03_EST_VC17',\n",
       " 'HC01_EST_VC18',\n",
       " 'HC02_EST_VC18',\n",
       " 'HC03_EST_VC18',\n",
       " 'HC01_EST_VC19',\n",
       " 'HC02_EST_VC19',\n",
       " 'HC03_EST_VC19',\n",
       " 'HC01_EST_VC21',\n",
       " 'HC02_EST_VC21',\n",
       " 'HC03_EST_VC21',\n",
       " 'HC01_EST_VC22',\n",
       " 'HC02_EST_VC22',\n",
       " 'HC03_EST_VC22',\n",
       " 'HC01_EST_VC25',\n",
       " 'HC02_EST_VC25',\n",
       " 'HC03_EST_VC25',\n",
       " 'HC01_EST_VC29',\n",
       " 'HC02_EST_VC29',\n",
       " 'HC03_EST_VC29',\n",
       " 'HC01_EST_VC30',\n",
       " 'HC02_EST_VC30',\n",
       " 'HC03_EST_VC30',\n",
       " 'Year']"
      ]
     },
     "execution_count": 5,
     "metadata": {},
     "output_type": "execute_result"
    }
   ],
   "source": [
    "col_select_10 = []\n",
    "col_select_10_temp = []\n",
    "\n",
    "for i in range(len(list(df_10.columns))):\n",
    "    if df_10.columns[i].find(\"EST\") == 5 or df_10.columns[i].find(\"GEO\") != -1 or df_10.columns[i].find(\"Year\") == 0:\n",
    "        col_select_10_temp.append(df_10.columns[i])\n",
    "        \n",
    "for element in col_select_10_temp:\n",
    "    if element.find(\"VC31\") != 9 and element.find(\"VC32\") != 9 and element.find(\"VC35\") != 9:\n",
    "        col_select_10.append(element)\n",
    "\n",
    "col_select_10"
   ]
  },
  {
   "cell_type": "code",
   "execution_count": 21,
   "metadata": {
    "collapsed": false
   },
   "outputs": [
    {
     "name": "stdout",
     "output_type": "stream",
     "text": [
      "(4907, 58)\n",
      "(4918, 58)\n",
      "(4918, 58)\n",
      "(4918, 58)\n",
      "(4918, 58)\n",
      "(4918, 58)\n",
      "(4918, 58)\n"
     ]
    }
   ],
   "source": [
    "dfs = [df_09, df_10, df_11, df_12, df_13, df_14, df_15]\n",
    "for i in range(len(dfs)):\n",
    "    dfs[i] = dfs[i][col_select_10]\n",
    "    print dfs[i].shape"
   ]
  },
  {
   "cell_type": "code",
   "execution_count": 22,
   "metadata": {
    "collapsed": false
   },
   "outputs": [],
   "source": [
    "df_09 = dfs[0]\n",
    "df_10 = dfs[1]\n",
    "df_11 = dfs[2]\n",
    "df_12 = dfs[3]\n",
    "df_13 = dfs[4]\n",
    "df_14 = dfs[5]\n",
    "df_15 = dfs[6]"
   ]
  },
  {
   "cell_type": "code",
   "execution_count": 23,
   "metadata": {
    "collapsed": true
   },
   "outputs": [],
   "source": [
    "q = '''\n",
    "select * from df_09\n",
    "union\n",
    "select * from df_10\n",
    "union\n",
    "select * from df_11\n",
    "union\n",
    "select * from df_12\n",
    "union \n",
    "select * from df_13\n",
    "union\n",
    "select * from df_14\n",
    "'''"
   ]
  },
  {
   "cell_type": "code",
   "execution_count": 24,
   "metadata": {
    "collapsed": false
   },
   "outputs": [],
   "source": [
    "df_09_to_15 = ps.sqldf(q, globals())"
   ]
  },
  {
   "cell_type": "code",
   "execution_count": 25,
   "metadata": {
    "collapsed": true
   },
   "outputs": [],
   "source": [
    "df_09_to_15.to_csv(\"Datasets/SNAP/ACS_09-15.csv\")"
   ]
  },
  {
   "cell_type": "code",
   "execution_count": null,
   "metadata": {
    "collapsed": true
   },
   "outputs": [],
   "source": []
  }
 ],
 "metadata": {
  "kernelspec": {
   "display_name": "Python 2",
   "language": "python",
   "name": "python2"
  },
  "language_info": {
   "codemirror_mode": {
    "name": "ipython",
    "version": 2
   },
   "file_extension": ".py",
   "mimetype": "text/x-python",
   "name": "python",
   "nbconvert_exporter": "python",
   "pygments_lexer": "ipython2",
   "version": "2.7.11"
  }
 },
 "nbformat": 4,
 "nbformat_minor": 0
}
