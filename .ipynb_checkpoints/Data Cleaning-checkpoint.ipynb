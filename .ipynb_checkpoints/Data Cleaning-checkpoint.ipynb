{
 "cells": [
  {
   "cell_type": "code",
   "execution_count": 2,
   "metadata": {
    "collapsed": true
   },
   "outputs": [],
   "source": [
    "import numpy as np, pandas as pd, pandasql as ps\n",
    "# ! pip install pandasql\n",
    "# run the above line if you do not have pandasql on your device"
   ]
  },
  {
   "cell_type": "code",
   "execution_count": 31,
   "metadata": {
    "collapsed": false
   },
   "outputs": [],
   "source": [
    "df_09 = pd.read_csv(\"Datasets/SNAP/ACS_09_5YR_S2201_with_ann.csv\", skiprows = 0, low_memory= False)\n",
    "df_10 = pd.read_csv(\"Datasets/SNAP/ACS_10_5YR_S2201_with_ann.csv\", skiprows = 0, low_memory= False)\n",
    "df_11 = pd.read_csv(\"Datasets/SNAP/ACS_11_5YR_S2201_with_ann.csv\", skiprows = 0, low_memory= False)\n",
    "df_12 = pd.read_csv(\"Datasets/SNAP/ACS_12_5YR_S2201_with_ann.csv\", skiprows = 0, low_memory= False)\n",
    "df_13 = pd.read_csv(\"Datasets/SNAP/ACS_13_5YR_S2201_with_ann.csv\", skiprows = 0, low_memory= False)\n",
    "df_14 = pd.read_csv(\"Datasets/SNAP/ACS_14_5YR_S2201_with_ann.csv\", skiprows = 0, low_memory= False)\n",
    "df_15 = pd.read_csv(\"Datasets/SNAP/ACS_15_5YR_S2201_with_ann.csv\", skiprows = 0, low_memory= False)"
   ]
  },
  {
   "cell_type": "code",
   "execution_count": 35,
   "metadata": {
    "collapsed": false
   },
   "outputs": [
    {
     "data": {
      "text/plain": [
       "array([ True,  True,  True,  True,  True,  True,  True,  True,  True,\n",
       "        True,  True,  True,  True,  True,  True,  True,  True,  True,\n",
       "        True,  True,  True,  True,  True,  True,  True,  True,  True,\n",
       "        True,  True,  True,  True,  True,  True,  True,  True,  True,\n",
       "        True,  True,  True,  True,  True,  True,  True,  True,  True,\n",
       "        True,  True,  True,  True,  True,  True,  True,  True,  True,\n",
       "        True,  True,  True,  True,  True,  True,  True,  True,  True,\n",
       "        True,  True,  True,  True,  True,  True,  True,  True,  True,\n",
       "        True,  True,  True,  True,  True,  True,  True,  True,  True,\n",
       "        True,  True,  True,  True,  True,  True,  True,  True,  True,\n",
       "        True,  True,  True,  True,  True,  True,  True,  True,  True,\n",
       "        True,  True,  True,  True,  True,  True,  True,  True,  True,\n",
       "        True,  True,  True,  True,  True,  True,  True,  True,  True,\n",
       "        True,  True,  True,  True,  True,  True,  True,  True,  True,\n",
       "        True,  True,  True], dtype=bool)"
      ]
     },
     "execution_count": 35,
     "metadata": {},
     "output_type": "execute_result"
    }
   ],
   "source": [
    "df_09.columns == df_11.columns"
   ]
  },
  {
   "cell_type": "code",
   "execution_count": 33,
   "metadata": {
    "collapsed": false
   },
   "outputs": [
    {
     "name": "stdout",
     "output_type": "stream",
     "text": [
      "Index([u'GEO.id', u'GEO.id2', u'GEO.display-label', u'HC01_EST_VC01',\n",
      "       u'HC01_MOE_VC01', u'HC02_EST_VC01', u'HC02_MOE_VC01', u'HC03_EST_VC01',\n",
      "       u'HC03_MOE_VC01', u'HC01_EST_VC02',\n",
      "       ...\n",
      "       u'HC02_EST_VC32', u'HC02_MOE_VC32', u'HC03_EST_VC32', u'HC03_MOE_VC32',\n",
      "       u'HC01_EST_VC35', u'HC01_MOE_VC35', u'HC02_EST_VC35', u'HC02_MOE_VC35',\n",
      "       u'HC03_EST_VC35', u'HC03_MOE_VC35'],\n",
      "      dtype='object', length=129)\n"
     ]
    }
   ],
   "source": [
    "print(df_10.columns)"
   ]
  },
  {
   "cell_type": "code",
   "execution_count": 14,
   "metadata": {
    "collapsed": false
   },
   "outputs": [],
   "source": [
    "col_09 = df_09.columns\n",
    "dfs = [df_09, df_11, df_12, df_13, df_14]\n",
    "for i in range(len(dfs)):\n",
    "    try:\n",
    "        dfs[i].columns = df_10.columns\n",
    "        dfs[i][\"Year\"] = 2009 + i\n",
    "    except ValueError: \n",
    "        print(str(i))"
   ]
  },
  {
   "cell_type": "code",
   "execution_count": 15,
   "metadata": {
    "collapsed": false
   },
   "outputs": [
    {
     "data": {
      "text/plain": [
       "Index([u'Id', u'Id2', u'Geography', u'Total; Estimate; Households',\n",
       "       u'Total; Margin of Error; Households',\n",
       "       u'Households receiving food stamps; Estimate; Households',\n",
       "       u'Households receiving food stamps; Margin of Error; Households',\n",
       "       u'Households not receiving food stamps; Estimate; Households',\n",
       "       u'Households not receiving food stamps; Margin of Error; Households',\n",
       "       u'Total; Estimate; With one or more people 60 years and over',\n",
       "       ...\n",
       "       u'Households receiving food stamps; Margin of Error; WORK STATUS - 2 or more workers in past 12 months',\n",
       "       u'Households not receiving food stamps; Estimate; WORK STATUS - 2 or more workers in past 12 months',\n",
       "       u'Households not receiving food stamps; Margin of Error; WORK STATUS - 2 or more workers in past 12 months',\n",
       "       u'Total; Estimate; PERCENT IMPUTED - Food stamp/SNAP recipiency',\n",
       "       u'Total; Margin of Error; PERCENT IMPUTED - Food stamp/SNAP recipiency',\n",
       "       u'Households receiving food stamps; Estimate; PERCENT IMPUTED - Food stamp/SNAP recipiency',\n",
       "       u'Households receiving food stamps; Margin of Error; PERCENT IMPUTED - Food stamp/SNAP recipiency',\n",
       "       u'Households not receiving food stamps; Estimate; PERCENT IMPUTED - Food stamp/SNAP recipiency',\n",
       "       u'Households not receiving food stamps; Margin of Error; PERCENT IMPUTED - Food stamp/SNAP recipiency',\n",
       "       u'Year'],\n",
       "      dtype='object', length=130)"
      ]
     },
     "execution_count": 15,
     "metadata": {},
     "output_type": "execute_result"
    }
   ],
   "source": [
    "df_09.columns"
   ]
  },
  {
   "cell_type": "code",
   "execution_count": 41,
   "metadata": {
    "collapsed": false
   },
   "outputs": [],
   "source": [
    "q = '''\n",
    "select * from df_09\n",
    "union\n",
    "select * from df_10\n",
    "union\n",
    "select * from df_11\n",
    "union\n",
    "select * from df_12\n",
    "union \n",
    "select * from df_13\n",
    "union\n",
    "select * from df_14\n",
    "'''"
   ]
  },
  {
   "cell_type": "code",
   "execution_count": 42,
   "metadata": {
    "collapsed": false
   },
   "outputs": [],
   "source": [
    "df_09_to_14 = ps.sqldf(q, globals())"
   ]
  },
  {
   "cell_type": "code",
   "execution_count": 44,
   "metadata": {
    "collapsed": false
   },
   "outputs": [
    {
     "data": {
      "text/html": [
       "<div>\n",
       "<table border=\"1\" class=\"dataframe\">\n",
       "  <thead>\n",
       "    <tr style=\"text-align: right;\">\n",
       "      <th></th>\n",
       "      <th>id</th>\n",
       "      <th>id2</th>\n",
       "      <th>display-label</th>\n",
       "      <th>HC01_EST_VC01</th>\n",
       "      <th>HC01_MOE_VC01</th>\n",
       "      <th>HC02_EST_VC01</th>\n",
       "      <th>HC02_MOE_VC01</th>\n",
       "      <th>HC03_EST_VC01</th>\n",
       "      <th>HC03_MOE_VC01</th>\n",
       "      <th>HC01_EST_VC02</th>\n",
       "      <th>...</th>\n",
       "      <th>HC02_EST_VC32</th>\n",
       "      <th>HC02_MOE_VC32</th>\n",
       "      <th>HC03_EST_VC32</th>\n",
       "      <th>HC03_MOE_VC32</th>\n",
       "      <th>HC01_EST_VC35</th>\n",
       "      <th>HC01_MOE_VC35</th>\n",
       "      <th>HC02_EST_VC35</th>\n",
       "      <th>HC02_MOE_VC35</th>\n",
       "      <th>HC03_EST_VC35</th>\n",
       "      <th>HC03_MOE_VC35</th>\n",
       "    </tr>\n",
       "  </thead>\n",
       "  <tbody>\n",
       "    <tr>\n",
       "      <th>29362</th>\n",
       "      <td>Id</td>\n",
       "      <td>Id2</td>\n",
       "      <td>Geography</td>\n",
       "      <td>Total; Estimate; Households</td>\n",
       "      <td>Total; Margin of Error; Households</td>\n",
       "      <td>Households receiving food stamps; Estimate; Ho...</td>\n",
       "      <td>Households receiving food stamps; Margin of Er...</td>\n",
       "      <td>Households not receiving food stamps; Estimate...</td>\n",
       "      <td>Households not receiving food stamps; Margin o...</td>\n",
       "      <td>Total; Estimate; With one or more people 60 ye...</td>\n",
       "      <td>...</td>\n",
       "      <td>Households receiving food stamps; Estimate; WO...</td>\n",
       "      <td>Households receiving food stamps; Margin of Er...</td>\n",
       "      <td>Households not receiving food stamps; Estimate...</td>\n",
       "      <td>Households not receiving food stamps; Margin o...</td>\n",
       "      <td>Total; Estimate; PERCENT IMPUTED - Food stamp/...</td>\n",
       "      <td>Total; Margin of Error; PERCENT IMPUTED - Food...</td>\n",
       "      <td>Households receiving food stamps; Estimate; PE...</td>\n",
       "      <td>Households receiving food stamps; Margin of Er...</td>\n",
       "      <td>Households not receiving food stamps; Estimate...</td>\n",
       "      <td>Households not receiving food stamps; Margin o...</td>\n",
       "    </tr>\n",
       "    <tr>\n",
       "      <th>29363</th>\n",
       "      <td>Id</td>\n",
       "      <td>Id2</td>\n",
       "      <td>Geography</td>\n",
       "      <td>Total; Estimate; Households</td>\n",
       "      <td>Total; Margin of Error; Households</td>\n",
       "      <td>Households receiving food stamps; Estimate; Ho...</td>\n",
       "      <td>Households receiving food stamps; Margin of Er...</td>\n",
       "      <td>Households not receiving food stamps; Estimate...</td>\n",
       "      <td>Households not receiving food stamps; Margin o...</td>\n",
       "      <td>Total; Estimate; With one or more people 60 ye...</td>\n",
       "      <td>...</td>\n",
       "      <td>Households receiving food stamps; Estimate; WO...</td>\n",
       "      <td>Households receiving food stamps; Margin of Er...</td>\n",
       "      <td>Households not receiving food stamps; Estimate...</td>\n",
       "      <td>Households not receiving food stamps; Margin o...</td>\n",
       "      <td>Total; Estimate; PERCENT IMPUTED - Food stamp/...</td>\n",
       "      <td>Total; Margin of Error; PERCENT IMPUTED - Food...</td>\n",
       "      <td>Households receiving food stamps; Estimate; PE...</td>\n",
       "      <td>Households receiving food stamps; Margin of Er...</td>\n",
       "      <td>Households not receiving food stamps; Estimate...</td>\n",
       "      <td>Households not receiving food stamps; Margin o...</td>\n",
       "    </tr>\n",
       "    <tr>\n",
       "      <th>29364</th>\n",
       "      <td>Id</td>\n",
       "      <td>Id2</td>\n",
       "      <td>Geography</td>\n",
       "      <td>Total; Estimate; Households</td>\n",
       "      <td>Total; Margin of Error; Households</td>\n",
       "      <td>Households receiving food stamps; Estimate; Ho...</td>\n",
       "      <td>Households receiving food stamps; Margin of Er...</td>\n",
       "      <td>Households not receiving food stamps; Estimate...</td>\n",
       "      <td>Households not receiving food stamps; Margin o...</td>\n",
       "      <td>Total; Estimate; With one or more people 60 ye...</td>\n",
       "      <td>...</td>\n",
       "      <td>Households receiving food stamps; Estimate; WO...</td>\n",
       "      <td>Households receiving food stamps; Margin of Er...</td>\n",
       "      <td>Households not receiving food stamps; Estimate...</td>\n",
       "      <td>Households not receiving food stamps; Margin o...</td>\n",
       "      <td>Total; Estimate; PERCENT IMPUTED - Food stamp/...</td>\n",
       "      <td>Total; Margin of Error; PERCENT IMPUTED - Food...</td>\n",
       "      <td>Households receiving food stamps; Estimate; PE...</td>\n",
       "      <td>Households receiving food stamps; Margin of Er...</td>\n",
       "      <td>Households not receiving food stamps; Estimate...</td>\n",
       "      <td>Households not receiving food stamps; Margin o...</td>\n",
       "    </tr>\n",
       "    <tr>\n",
       "      <th>29365</th>\n",
       "      <td>Id</td>\n",
       "      <td>Id2</td>\n",
       "      <td>Geography</td>\n",
       "      <td>Total; Estimate; Households</td>\n",
       "      <td>Total; Margin of Error; Households</td>\n",
       "      <td>Households receiving food stamps; Estimate; Ho...</td>\n",
       "      <td>Households receiving food stamps; Margin of Er...</td>\n",
       "      <td>Households not receiving food stamps; Estimate...</td>\n",
       "      <td>Households not receiving food stamps; Margin o...</td>\n",
       "      <td>Total; Estimate; With one or more people 60 ye...</td>\n",
       "      <td>...</td>\n",
       "      <td>Households receiving food stamps; Estimate; WO...</td>\n",
       "      <td>Households receiving food stamps; Margin of Er...</td>\n",
       "      <td>Households not receiving food stamps; Estimate...</td>\n",
       "      <td>Households not receiving food stamps; Margin o...</td>\n",
       "      <td>Total; Estimate; PERCENT IMPUTED - Food stamp/...</td>\n",
       "      <td>Total; Margin of Error; PERCENT IMPUTED - Food...</td>\n",
       "      <td>Households receiving food stamps; Estimate; PE...</td>\n",
       "      <td>Households receiving food stamps; Margin of Er...</td>\n",
       "      <td>Households not receiving food stamps; Estimate...</td>\n",
       "      <td>Households not receiving food stamps; Margin o...</td>\n",
       "    </tr>\n",
       "    <tr>\n",
       "      <th>29366</th>\n",
       "      <td>Id</td>\n",
       "      <td>Id2</td>\n",
       "      <td>Geography</td>\n",
       "      <td>Total; Estimate; Households</td>\n",
       "      <td>Total; Margin of Error; Households</td>\n",
       "      <td>Households receiving food stamps; Estimate; Ho...</td>\n",
       "      <td>Households receiving food stamps; Margin of Er...</td>\n",
       "      <td>Households not receiving food stamps; Estimate...</td>\n",
       "      <td>Households not receiving food stamps; Margin o...</td>\n",
       "      <td>Total; Estimate; With one or more people 60 ye...</td>\n",
       "      <td>...</td>\n",
       "      <td>Households receiving food stamps; Estimate; WO...</td>\n",
       "      <td>Households receiving food stamps; Margin of Er...</td>\n",
       "      <td>Households not receiving food stamps; Estimate...</td>\n",
       "      <td>Households not receiving food stamps; Margin o...</td>\n",
       "      <td>Total; Estimate; PERCENT IMPUTED - Food stamp/...</td>\n",
       "      <td>Total; Margin of Error; PERCENT IMPUTED - Food...</td>\n",
       "      <td>Households receiving food stamps; Estimate; PE...</td>\n",
       "      <td>Households receiving food stamps; Margin of Er...</td>\n",
       "      <td>Households not receiving food stamps; Estimate...</td>\n",
       "      <td>Households not receiving food stamps; Margin o...</td>\n",
       "    </tr>\n",
       "  </tbody>\n",
       "</table>\n",
       "<p>5 rows × 129 columns</p>\n",
       "</div>"
      ],
      "text/plain": [
       "       id  id2 display-label                HC01_EST_VC01  \\\n",
       "29362  Id  Id2     Geography  Total; Estimate; Households   \n",
       "29363  Id  Id2     Geography  Total; Estimate; Households   \n",
       "29364  Id  Id2     Geography  Total; Estimate; Households   \n",
       "29365  Id  Id2     Geography  Total; Estimate; Households   \n",
       "29366  Id  Id2     Geography  Total; Estimate; Households   \n",
       "\n",
       "                            HC01_MOE_VC01  \\\n",
       "29362  Total; Margin of Error; Households   \n",
       "29363  Total; Margin of Error; Households   \n",
       "29364  Total; Margin of Error; Households   \n",
       "29365  Total; Margin of Error; Households   \n",
       "29366  Total; Margin of Error; Households   \n",
       "\n",
       "                                           HC02_EST_VC01  \\\n",
       "29362  Households receiving food stamps; Estimate; Ho...   \n",
       "29363  Households receiving food stamps; Estimate; Ho...   \n",
       "29364  Households receiving food stamps; Estimate; Ho...   \n",
       "29365  Households receiving food stamps; Estimate; Ho...   \n",
       "29366  Households receiving food stamps; Estimate; Ho...   \n",
       "\n",
       "                                           HC02_MOE_VC01  \\\n",
       "29362  Households receiving food stamps; Margin of Er...   \n",
       "29363  Households receiving food stamps; Margin of Er...   \n",
       "29364  Households receiving food stamps; Margin of Er...   \n",
       "29365  Households receiving food stamps; Margin of Er...   \n",
       "29366  Households receiving food stamps; Margin of Er...   \n",
       "\n",
       "                                           HC03_EST_VC01  \\\n",
       "29362  Households not receiving food stamps; Estimate...   \n",
       "29363  Households not receiving food stamps; Estimate...   \n",
       "29364  Households not receiving food stamps; Estimate...   \n",
       "29365  Households not receiving food stamps; Estimate...   \n",
       "29366  Households not receiving food stamps; Estimate...   \n",
       "\n",
       "                                           HC03_MOE_VC01  \\\n",
       "29362  Households not receiving food stamps; Margin o...   \n",
       "29363  Households not receiving food stamps; Margin o...   \n",
       "29364  Households not receiving food stamps; Margin o...   \n",
       "29365  Households not receiving food stamps; Margin o...   \n",
       "29366  Households not receiving food stamps; Margin o...   \n",
       "\n",
       "                                           HC01_EST_VC02  \\\n",
       "29362  Total; Estimate; With one or more people 60 ye...   \n",
       "29363  Total; Estimate; With one or more people 60 ye...   \n",
       "29364  Total; Estimate; With one or more people 60 ye...   \n",
       "29365  Total; Estimate; With one or more people 60 ye...   \n",
       "29366  Total; Estimate; With one or more people 60 ye...   \n",
       "\n",
       "                             ...                          \\\n",
       "29362                        ...                           \n",
       "29363                        ...                           \n",
       "29364                        ...                           \n",
       "29365                        ...                           \n",
       "29366                        ...                           \n",
       "\n",
       "                                           HC02_EST_VC32  \\\n",
       "29362  Households receiving food stamps; Estimate; WO...   \n",
       "29363  Households receiving food stamps; Estimate; WO...   \n",
       "29364  Households receiving food stamps; Estimate; WO...   \n",
       "29365  Households receiving food stamps; Estimate; WO...   \n",
       "29366  Households receiving food stamps; Estimate; WO...   \n",
       "\n",
       "                                           HC02_MOE_VC32  \\\n",
       "29362  Households receiving food stamps; Margin of Er...   \n",
       "29363  Households receiving food stamps; Margin of Er...   \n",
       "29364  Households receiving food stamps; Margin of Er...   \n",
       "29365  Households receiving food stamps; Margin of Er...   \n",
       "29366  Households receiving food stamps; Margin of Er...   \n",
       "\n",
       "                                           HC03_EST_VC32  \\\n",
       "29362  Households not receiving food stamps; Estimate...   \n",
       "29363  Households not receiving food stamps; Estimate...   \n",
       "29364  Households not receiving food stamps; Estimate...   \n",
       "29365  Households not receiving food stamps; Estimate...   \n",
       "29366  Households not receiving food stamps; Estimate...   \n",
       "\n",
       "                                           HC03_MOE_VC32  \\\n",
       "29362  Households not receiving food stamps; Margin o...   \n",
       "29363  Households not receiving food stamps; Margin o...   \n",
       "29364  Households not receiving food stamps; Margin o...   \n",
       "29365  Households not receiving food stamps; Margin o...   \n",
       "29366  Households not receiving food stamps; Margin o...   \n",
       "\n",
       "                                           HC01_EST_VC35  \\\n",
       "29362  Total; Estimate; PERCENT IMPUTED - Food stamp/...   \n",
       "29363  Total; Estimate; PERCENT IMPUTED - Food stamp/...   \n",
       "29364  Total; Estimate; PERCENT IMPUTED - Food stamp/...   \n",
       "29365  Total; Estimate; PERCENT IMPUTED - Food stamp/...   \n",
       "29366  Total; Estimate; PERCENT IMPUTED - Food stamp/...   \n",
       "\n",
       "                                           HC01_MOE_VC35  \\\n",
       "29362  Total; Margin of Error; PERCENT IMPUTED - Food...   \n",
       "29363  Total; Margin of Error; PERCENT IMPUTED - Food...   \n",
       "29364  Total; Margin of Error; PERCENT IMPUTED - Food...   \n",
       "29365  Total; Margin of Error; PERCENT IMPUTED - Food...   \n",
       "29366  Total; Margin of Error; PERCENT IMPUTED - Food...   \n",
       "\n",
       "                                           HC02_EST_VC35  \\\n",
       "29362  Households receiving food stamps; Estimate; PE...   \n",
       "29363  Households receiving food stamps; Estimate; PE...   \n",
       "29364  Households receiving food stamps; Estimate; PE...   \n",
       "29365  Households receiving food stamps; Estimate; PE...   \n",
       "29366  Households receiving food stamps; Estimate; PE...   \n",
       "\n",
       "                                           HC02_MOE_VC35  \\\n",
       "29362  Households receiving food stamps; Margin of Er...   \n",
       "29363  Households receiving food stamps; Margin of Er...   \n",
       "29364  Households receiving food stamps; Margin of Er...   \n",
       "29365  Households receiving food stamps; Margin of Er...   \n",
       "29366  Households receiving food stamps; Margin of Er...   \n",
       "\n",
       "                                           HC03_EST_VC35  \\\n",
       "29362  Households not receiving food stamps; Estimate...   \n",
       "29363  Households not receiving food stamps; Estimate...   \n",
       "29364  Households not receiving food stamps; Estimate...   \n",
       "29365  Households not receiving food stamps; Estimate...   \n",
       "29366  Households not receiving food stamps; Estimate...   \n",
       "\n",
       "                                           HC03_MOE_VC35  \n",
       "29362  Households not receiving food stamps; Margin o...  \n",
       "29363  Households not receiving food stamps; Margin o...  \n",
       "29364  Households not receiving food stamps; Margin o...  \n",
       "29365  Households not receiving food stamps; Margin o...  \n",
       "29366  Households not receiving food stamps; Margin o...  \n",
       "\n",
       "[5 rows x 129 columns]"
      ]
     },
     "execution_count": 44,
     "metadata": {},
     "output_type": "execute_result"
    }
   ],
   "source": [
    "df_09_to_14.tail()"
   ]
  },
  {
   "cell_type": "code",
   "execution_count": 40,
   "metadata": {
    "collapsed": false
   },
   "outputs": [
    {
     "data": {
      "text/plain": [
       "129"
      ]
     },
     "execution_count": 40,
     "metadata": {},
     "output_type": "execute_result"
    }
   ],
   "source": [
    "len(df_09.columns)"
   ]
  },
  {
   "cell_type": "code",
   "execution_count": 37,
   "metadata": {
    "collapsed": false
   },
   "outputs": [],
   "source": [
    "col_list = []\n",
    "for i in df_15.columns:\n",
    "    for j in df_09.columns:\n",
    "        if i == j:\n",
    "            col_list.append(i)"
   ]
  },
  {
   "cell_type": "code",
   "execution_count": 39,
   "metadata": {
    "collapsed": false
   },
   "outputs": [
    {
     "data": {
      "text/plain": [
       "117"
      ]
     },
     "execution_count": 39,
     "metadata": {},
     "output_type": "execute_result"
    }
   ],
   "source": [
    "len(col_list)"
   ]
  },
  {
   "cell_type": "code",
   "execution_count": 45,
   "metadata": {
    "collapsed": true
   },
   "outputs": [],
   "source": [
    "df_09_to_14.to_csv(\"Datasets/SNAP/ACS_09-14.csv\")"
   ]
  },
  {
   "cell_type": "code",
   "execution_count": null,
   "metadata": {
    "collapsed": true
   },
   "outputs": [],
   "source": []
  }
 ],
 "metadata": {
  "kernelspec": {
   "display_name": "Python 2",
   "language": "python",
   "name": "python2"
  },
  "language_info": {
   "codemirror_mode": {
    "name": "ipython",
    "version": 2
   },
   "file_extension": ".py",
   "mimetype": "text/x-python",
   "name": "python",
   "nbconvert_exporter": "python",
   "pygments_lexer": "ipython2",
   "version": "2.7.11"
  }
 },
 "nbformat": 4,
 "nbformat_minor": 0
}
