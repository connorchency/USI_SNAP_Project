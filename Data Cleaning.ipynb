{
 "cells": [
  {
   "cell_type": "code",
   "execution_count": 1,
   "metadata": {
    "collapsed": true
   },
   "outputs": [],
   "source": [
    "import numpy as np, pandas as pd, pandasql as ps\n",
    "# ! pip install pandasql\n",
    "# run the above line if you do not have pandasql on your device"
   ]
  },
  {
   "cell_type": "code",
   "execution_count": 47,
   "metadata": {
    "collapsed": false
   },
   "outputs": [],
   "source": [
    "df_09 = pd.read_csv(\"Datasets/SNAP/ACS_09_5YR_S2201_with_ann.csv\", skiprows = [1], low_memory= False)\n",
    "df_10 = pd.read_csv(\"Datasets/SNAP/ACS_10_5YR_S2201_with_ann.csv\", skiprows = [1], low_memory= False)\n",
    "df_11 = pd.read_csv(\"Datasets/SNAP/ACS_11_5YR_S2201_with_ann.csv\", skiprows = [1], low_memory= False)\n",
    "df_12 = pd.read_csv(\"Datasets/SNAP/ACS_12_5YR_S2201_with_ann.csv\", skiprows = [1], low_memory= False)\n",
    "df_13 = pd.read_csv(\"Datasets/SNAP/ACS_13_5YR_S2201_with_ann.csv\", skiprows = [1], low_memory= False)\n",
    "df_14 = pd.read_csv(\"Datasets/SNAP/ACS_14_5YR_S2201_with_ann.csv\", skiprows = [1], low_memory= False)\n",
    "df_15 = pd.read_csv(\"Datasets/SNAP/ACS_15_5YR_S2201_with_ann.csv\", skiprows = [1], low_memory= False)"
   ]
  },
  {
   "cell_type": "code",
   "execution_count": 48,
   "metadata": {
    "collapsed": false
   },
   "outputs": [
    {
     "data": {
      "text/html": [
       "<div>\n",
       "<table border=\"1\" class=\"dataframe\">\n",
       "  <thead>\n",
       "    <tr style=\"text-align: right;\">\n",
       "      <th></th>\n",
       "      <th>GEO.id</th>\n",
       "      <th>GEO.id2</th>\n",
       "      <th>GEO.display-label</th>\n",
       "      <th>HC01_EST_VC01</th>\n",
       "      <th>HC01_MOE_VC01</th>\n",
       "      <th>HC02_EST_VC01</th>\n",
       "      <th>HC02_MOE_VC01</th>\n",
       "      <th>HC03_EST_VC01</th>\n",
       "      <th>HC03_MOE_VC01</th>\n",
       "      <th>HC01_EST_VC02</th>\n",
       "      <th>...</th>\n",
       "      <th>HC02_EST_VC25</th>\n",
       "      <th>HC02_MOE_VC25</th>\n",
       "      <th>HC03_EST_VC25</th>\n",
       "      <th>HC03_MOE_VC25</th>\n",
       "      <th>HC01_EST_VC27</th>\n",
       "      <th>HC01_MOE_VC27</th>\n",
       "      <th>HC02_EST_VC27</th>\n",
       "      <th>HC02_MOE_VC27</th>\n",
       "      <th>HC03_EST_VC27</th>\n",
       "      <th>HC03_MOE_VC27</th>\n",
       "    </tr>\n",
       "  </thead>\n",
       "  <tbody>\n",
       "    <tr>\n",
       "      <th>0</th>\n",
       "      <td>1400000US36001000100</td>\n",
       "      <td>36001000100</td>\n",
       "      <td>Census Tract 1, Albany County, New York</td>\n",
       "      <td>794</td>\n",
       "      <td>84</td>\n",
       "      <td>120</td>\n",
       "      <td>84</td>\n",
       "      <td>674</td>\n",
       "      <td>108</td>\n",
       "      <td>31.9</td>\n",
       "      <td>...</td>\n",
       "      <td>14.5</td>\n",
       "      <td>36.8</td>\n",
       "      <td>44.8</td>\n",
       "      <td>15.5</td>\n",
       "      <td>8.7</td>\n",
       "      <td>(X)</td>\n",
       "      <td>(X)</td>\n",
       "      <td>(X)</td>\n",
       "      <td>(X)</td>\n",
       "      <td>(X)</td>\n",
       "    </tr>\n",
       "    <tr>\n",
       "      <th>1</th>\n",
       "      <td>1400000US36001000200</td>\n",
       "      <td>36001000200</td>\n",
       "      <td>Census Tract 2, Albany County, New York</td>\n",
       "      <td>2145</td>\n",
       "      <td>228</td>\n",
       "      <td>488</td>\n",
       "      <td>164</td>\n",
       "      <td>1657</td>\n",
       "      <td>238</td>\n",
       "      <td>21.5</td>\n",
       "      <td>...</td>\n",
       "      <td>23.6</td>\n",
       "      <td>16.1</td>\n",
       "      <td>27.4</td>\n",
       "      <td>13.7</td>\n",
       "      <td>3.1</td>\n",
       "      <td>(X)</td>\n",
       "      <td>(X)</td>\n",
       "      <td>(X)</td>\n",
       "      <td>(X)</td>\n",
       "      <td>(X)</td>\n",
       "    </tr>\n",
       "    <tr>\n",
       "      <th>2</th>\n",
       "      <td>1400000US36001000300</td>\n",
       "      <td>36001000300</td>\n",
       "      <td>Census Tract 3, Albany County, New York</td>\n",
       "      <td>2448</td>\n",
       "      <td>153</td>\n",
       "      <td>382</td>\n",
       "      <td>137</td>\n",
       "      <td>2066</td>\n",
       "      <td>168</td>\n",
       "      <td>27.8</td>\n",
       "      <td>...</td>\n",
       "      <td>6.1</td>\n",
       "      <td>9.9</td>\n",
       "      <td>44.8</td>\n",
       "      <td>11.8</td>\n",
       "      <td>2.6</td>\n",
       "      <td>(X)</td>\n",
       "      <td>(X)</td>\n",
       "      <td>(X)</td>\n",
       "      <td>(X)</td>\n",
       "      <td>(X)</td>\n",
       "    </tr>\n",
       "    <tr>\n",
       "      <th>3</th>\n",
       "      <td>1400000US36001000401</td>\n",
       "      <td>36001000401</td>\n",
       "      <td>Census Tract 4.01, Albany County, New York</td>\n",
       "      <td>1092</td>\n",
       "      <td>85</td>\n",
       "      <td>0</td>\n",
       "      <td>123</td>\n",
       "      <td>1092</td>\n",
       "      <td>85</td>\n",
       "      <td>55.6</td>\n",
       "      <td>...</td>\n",
       "      <td>-</td>\n",
       "      <td>**</td>\n",
       "      <td>52.0</td>\n",
       "      <td>13.5</td>\n",
       "      <td>0.0</td>\n",
       "      <td>(X)</td>\n",
       "      <td>(X)</td>\n",
       "      <td>(X)</td>\n",
       "      <td>(X)</td>\n",
       "      <td>(X)</td>\n",
       "    </tr>\n",
       "    <tr>\n",
       "      <th>4</th>\n",
       "      <td>1400000US36001000403</td>\n",
       "      <td>36001000403</td>\n",
       "      <td>Census Tract 4.03, Albany County, New York</td>\n",
       "      <td>2193</td>\n",
       "      <td>150</td>\n",
       "      <td>35</td>\n",
       "      <td>40</td>\n",
       "      <td>2158</td>\n",
       "      <td>154</td>\n",
       "      <td>30.7</td>\n",
       "      <td>...</td>\n",
       "      <td>0.0</td>\n",
       "      <td>68.8</td>\n",
       "      <td>68.5</td>\n",
       "      <td>10.1</td>\n",
       "      <td>2.0</td>\n",
       "      <td>(X)</td>\n",
       "      <td>(X)</td>\n",
       "      <td>(X)</td>\n",
       "      <td>(X)</td>\n",
       "      <td>(X)</td>\n",
       "    </tr>\n",
       "  </tbody>\n",
       "</table>\n",
       "<p>5 rows × 129 columns</p>\n",
       "</div>"
      ],
      "text/plain": [
       "                 GEO.id      GEO.id2  \\\n",
       "0  1400000US36001000100  36001000100   \n",
       "1  1400000US36001000200  36001000200   \n",
       "2  1400000US36001000300  36001000300   \n",
       "3  1400000US36001000401  36001000401   \n",
       "4  1400000US36001000403  36001000403   \n",
       "\n",
       "                            GEO.display-label  HC01_EST_VC01  HC01_MOE_VC01  \\\n",
       "0     Census Tract 1, Albany County, New York            794             84   \n",
       "1     Census Tract 2, Albany County, New York           2145            228   \n",
       "2     Census Tract 3, Albany County, New York           2448            153   \n",
       "3  Census Tract 4.01, Albany County, New York           1092             85   \n",
       "4  Census Tract 4.03, Albany County, New York           2193            150   \n",
       "\n",
       "   HC02_EST_VC01  HC02_MOE_VC01  HC03_EST_VC01  HC03_MOE_VC01 HC01_EST_VC02  \\\n",
       "0            120             84            674            108          31.9   \n",
       "1            488            164           1657            238          21.5   \n",
       "2            382            137           2066            168          27.8   \n",
       "3              0            123           1092             85          55.6   \n",
       "4             35             40           2158            154          30.7   \n",
       "\n",
       "       ...      HC02_EST_VC25 HC02_MOE_VC25 HC03_EST_VC25 HC03_MOE_VC25  \\\n",
       "0      ...               14.5          36.8          44.8          15.5   \n",
       "1      ...               23.6          16.1          27.4          13.7   \n",
       "2      ...                6.1           9.9          44.8          11.8   \n",
       "3      ...                  -            **          52.0          13.5   \n",
       "4      ...                0.0          68.8          68.5          10.1   \n",
       "\n",
       "  HC01_EST_VC27 HC01_MOE_VC27 HC02_EST_VC27 HC02_MOE_VC27 HC03_EST_VC27  \\\n",
       "0           8.7           (X)           (X)           (X)           (X)   \n",
       "1           3.1           (X)           (X)           (X)           (X)   \n",
       "2           2.6           (X)           (X)           (X)           (X)   \n",
       "3           0.0           (X)           (X)           (X)           (X)   \n",
       "4           2.0           (X)           (X)           (X)           (X)   \n",
       "\n",
       "  HC03_MOE_VC27  \n",
       "0           (X)  \n",
       "1           (X)  \n",
       "2           (X)  \n",
       "3           (X)  \n",
       "4           (X)  \n",
       "\n",
       "[5 rows x 129 columns]"
      ]
     },
     "execution_count": 48,
     "metadata": {},
     "output_type": "execute_result"
    }
   ],
   "source": [
    "df_09.head()"
   ]
  },
  {
   "cell_type": "code",
   "execution_count": 49,
   "metadata": {
    "collapsed": false
   },
   "outputs": [
    {
     "name": "stdout",
     "output_type": "stream",
     "text": [
      "Index([u'GEO.id', u'GEO.id2', u'GEO.display-label', u'HC01_EST_VC01',\n",
      "       u'HC01_MOE_VC01', u'HC02_EST_VC01', u'HC02_MOE_VC01', u'HC03_EST_VC01',\n",
      "       u'HC03_MOE_VC01', u'HC01_EST_VC02',\n",
      "       ...\n",
      "       u'HC02_EST_VC32', u'HC02_MOE_VC32', u'HC03_EST_VC32', u'HC03_MOE_VC32',\n",
      "       u'HC01_EST_VC35', u'HC01_MOE_VC35', u'HC02_EST_VC35', u'HC02_MOE_VC35',\n",
      "       u'HC03_EST_VC35', u'HC03_MOE_VC35'],\n",
      "      dtype='object', length=129)\n"
     ]
    }
   ],
   "source": [
    "print(df_10.columns)"
   ]
  },
  {
   "cell_type": "code",
   "execution_count": 50,
   "metadata": {
    "collapsed": false
   },
   "outputs": [],
   "source": [
    "dfs = [df_09, df_11, df_12, df_13, df_14]\n",
    "for i in range(len(dfs)):\n",
    "    dfs[i].columns = df_10.columns"
   ]
  },
  {
   "cell_type": "code",
   "execution_count": 51,
   "metadata": {
    "collapsed": false
   },
   "outputs": [
    {
     "data": {
      "text/plain": [
       "Index([u'GEO.id', u'GEO.id2', u'GEO.display-label', u'HC01_EST_VC01',\n",
       "       u'HC01_MOE_VC01', u'HC02_EST_VC01', u'HC02_MOE_VC01', u'HC03_EST_VC01',\n",
       "       u'HC03_MOE_VC01', u'HC01_EST_VC02',\n",
       "       ...\n",
       "       u'HC02_EST_VC32', u'HC02_MOE_VC32', u'HC03_EST_VC32', u'HC03_MOE_VC32',\n",
       "       u'HC01_EST_VC35', u'HC01_MOE_VC35', u'HC02_EST_VC35', u'HC02_MOE_VC35',\n",
       "       u'HC03_EST_VC35', u'HC03_MOE_VC35'],\n",
       "      dtype='object', length=129)"
      ]
     },
     "execution_count": 51,
     "metadata": {},
     "output_type": "execute_result"
    }
   ],
   "source": [
    "df_09.columns"
   ]
  },
  {
   "cell_type": "code",
   "execution_count": 52,
   "metadata": {
    "collapsed": false
   },
   "outputs": [],
   "source": [
    "df_09[\"Year\"] = 2009\n",
    "df_10[\"Year\"] = 2010\n",
    "df_11[\"Year\"] = 2011\n",
    "df_12[\"Year\"] = 2012\n",
    "df_13[\"Year\"] = 2013\n",
    "df_14[\"Year\"] = 2014"
   ]
  },
  {
   "cell_type": "code",
   "execution_count": 53,
   "metadata": {
    "collapsed": false
   },
   "outputs": [],
   "source": [
    "q = '''\n",
    "select * from df_09\n",
    "union\n",
    "select * from df_10\n",
    "union\n",
    "select * from df_11\n",
    "union\n",
    "select * from df_12\n",
    "union \n",
    "select * from df_13\n",
    "union\n",
    "select * from df_14\n",
    "'''"
   ]
  },
  {
   "cell_type": "code",
   "execution_count": 54,
   "metadata": {
    "collapsed": false
   },
   "outputs": [],
   "source": [
    "df_09_to_14 = ps.sqldf(q, globals())"
   ]
  },
  {
   "cell_type": "code",
   "execution_count": 56,
   "metadata": {
    "collapsed": false
   },
   "outputs": [
    {
     "data": {
      "text/html": [
       "<div>\n",
       "<table border=\"1\" class=\"dataframe\">\n",
       "  <thead>\n",
       "    <tr style=\"text-align: right;\">\n",
       "      <th></th>\n",
       "      <th>id</th>\n",
       "      <th>id2</th>\n",
       "      <th>display-label</th>\n",
       "      <th>HC01_EST_VC01</th>\n",
       "      <th>HC01_MOE_VC01</th>\n",
       "      <th>HC02_EST_VC01</th>\n",
       "      <th>HC02_MOE_VC01</th>\n",
       "      <th>HC03_EST_VC01</th>\n",
       "      <th>HC03_MOE_VC01</th>\n",
       "      <th>HC01_EST_VC02</th>\n",
       "      <th>...</th>\n",
       "      <th>HC02_MOE_VC32</th>\n",
       "      <th>HC03_EST_VC32</th>\n",
       "      <th>HC03_MOE_VC32</th>\n",
       "      <th>HC01_EST_VC35</th>\n",
       "      <th>HC01_MOE_VC35</th>\n",
       "      <th>HC02_EST_VC35</th>\n",
       "      <th>HC02_MOE_VC35</th>\n",
       "      <th>HC03_EST_VC35</th>\n",
       "      <th>HC03_MOE_VC35</th>\n",
       "      <th>Year</th>\n",
       "    </tr>\n",
       "  </thead>\n",
       "  <tbody>\n",
       "    <tr>\n",
       "      <th>29493</th>\n",
       "      <td>1400000US36123990100</td>\n",
       "      <td>36123990100</td>\n",
       "      <td>Census Tract 9901, Yates County, New York</td>\n",
       "      <td>1972</td>\n",
       "      <td>136</td>\n",
       "      <td>206</td>\n",
       "      <td>55</td>\n",
       "      <td>1766</td>\n",
       "      <td>141</td>\n",
       "      <td>42.6</td>\n",
       "      <td>...</td>\n",
       "      <td>16.7</td>\n",
       "      <td>55.6</td>\n",
       "      <td>6.7</td>\n",
       "      <td>1.1</td>\n",
       "      <td>(X)</td>\n",
       "      <td>(X)</td>\n",
       "      <td>(X)</td>\n",
       "      <td>(X)</td>\n",
       "      <td>(X)</td>\n",
       "      <td>2009</td>\n",
       "    </tr>\n",
       "    <tr>\n",
       "      <th>29494</th>\n",
       "      <td>1400000US36123990200</td>\n",
       "      <td>36123990200</td>\n",
       "      <td>Census Tract 9902, Yates County, New York</td>\n",
       "      <td>2069</td>\n",
       "      <td>167</td>\n",
       "      <td>185</td>\n",
       "      <td>98</td>\n",
       "      <td>1884</td>\n",
       "      <td>188</td>\n",
       "      <td>36.8</td>\n",
       "      <td>...</td>\n",
       "      <td>25.4</td>\n",
       "      <td>61.0</td>\n",
       "      <td>7.9</td>\n",
       "      <td>3.2</td>\n",
       "      <td>(X)</td>\n",
       "      <td>(X)</td>\n",
       "      <td>(X)</td>\n",
       "      <td>(X)</td>\n",
       "      <td>(X)</td>\n",
       "      <td>2009</td>\n",
       "    </tr>\n",
       "    <tr>\n",
       "      <th>29495</th>\n",
       "      <td>1400000US36123990300</td>\n",
       "      <td>36123990300</td>\n",
       "      <td>Census Tract 9903, Yates County, New York</td>\n",
       "      <td>1852</td>\n",
       "      <td>134</td>\n",
       "      <td>152</td>\n",
       "      <td>52</td>\n",
       "      <td>1700</td>\n",
       "      <td>139</td>\n",
       "      <td>34.7</td>\n",
       "      <td>...</td>\n",
       "      <td>16.3</td>\n",
       "      <td>51.3</td>\n",
       "      <td>6.3</td>\n",
       "      <td>0.8</td>\n",
       "      <td>(X)</td>\n",
       "      <td>(X)</td>\n",
       "      <td>(X)</td>\n",
       "      <td>(X)</td>\n",
       "      <td>(X)</td>\n",
       "      <td>2009</td>\n",
       "    </tr>\n",
       "    <tr>\n",
       "      <th>29496</th>\n",
       "      <td>1400000US36123990400</td>\n",
       "      <td>36123990400</td>\n",
       "      <td>Census Tract 9904, Yates County, New York</td>\n",
       "      <td>1479</td>\n",
       "      <td>215</td>\n",
       "      <td>194</td>\n",
       "      <td>84</td>\n",
       "      <td>1285</td>\n",
       "      <td>199</td>\n",
       "      <td>37.3</td>\n",
       "      <td>...</td>\n",
       "      <td>12.0</td>\n",
       "      <td>62.2</td>\n",
       "      <td>8.5</td>\n",
       "      <td>4.0</td>\n",
       "      <td>(X)</td>\n",
       "      <td>(X)</td>\n",
       "      <td>(X)</td>\n",
       "      <td>(X)</td>\n",
       "      <td>(X)</td>\n",
       "      <td>2009</td>\n",
       "    </tr>\n",
       "    <tr>\n",
       "      <th>29497</th>\n",
       "      <td>1400000US36123990500</td>\n",
       "      <td>36123990500</td>\n",
       "      <td>Census Tract 9905, Yates County, New York</td>\n",
       "      <td>1740</td>\n",
       "      <td>121</td>\n",
       "      <td>199</td>\n",
       "      <td>79</td>\n",
       "      <td>1541</td>\n",
       "      <td>118</td>\n",
       "      <td>40.5</td>\n",
       "      <td>...</td>\n",
       "      <td>12.2</td>\n",
       "      <td>56.7</td>\n",
       "      <td>7.1</td>\n",
       "      <td>2.1</td>\n",
       "      <td>(X)</td>\n",
       "      <td>(X)</td>\n",
       "      <td>(X)</td>\n",
       "      <td>(X)</td>\n",
       "      <td>(X)</td>\n",
       "      <td>2009</td>\n",
       "    </tr>\n",
       "  </tbody>\n",
       "</table>\n",
       "<p>5 rows × 130 columns</p>\n",
       "</div>"
      ],
      "text/plain": [
       "                         id          id2  \\\n",
       "29493  1400000US36123990100  36123990100   \n",
       "29494  1400000US36123990200  36123990200   \n",
       "29495  1400000US36123990300  36123990300   \n",
       "29496  1400000US36123990400  36123990400   \n",
       "29497  1400000US36123990500  36123990500   \n",
       "\n",
       "                                   display-label  HC01_EST_VC01  \\\n",
       "29493  Census Tract 9901, Yates County, New York           1972   \n",
       "29494  Census Tract 9902, Yates County, New York           2069   \n",
       "29495  Census Tract 9903, Yates County, New York           1852   \n",
       "29496  Census Tract 9904, Yates County, New York           1479   \n",
       "29497  Census Tract 9905, Yates County, New York           1740   \n",
       "\n",
       "       HC01_MOE_VC01  HC02_EST_VC01  HC02_MOE_VC01  HC03_EST_VC01  \\\n",
       "29493            136            206             55           1766   \n",
       "29494            167            185             98           1884   \n",
       "29495            134            152             52           1700   \n",
       "29496            215            194             84           1285   \n",
       "29497            121            199             79           1541   \n",
       "\n",
       "       HC03_MOE_VC01 HC01_EST_VC02  ...  HC02_MOE_VC32 HC03_EST_VC32  \\\n",
       "29493            141          42.6  ...           16.7          55.6   \n",
       "29494            188          36.8  ...           25.4          61.0   \n",
       "29495            139          34.7  ...           16.3          51.3   \n",
       "29496            199          37.3  ...           12.0          62.2   \n",
       "29497            118          40.5  ...           12.2          56.7   \n",
       "\n",
       "      HC03_MOE_VC32 HC01_EST_VC35 HC01_MOE_VC35 HC02_EST_VC35 HC02_MOE_VC35  \\\n",
       "29493           6.7           1.1           (X)           (X)           (X)   \n",
       "29494           7.9           3.2           (X)           (X)           (X)   \n",
       "29495           6.3           0.8           (X)           (X)           (X)   \n",
       "29496           8.5           4.0           (X)           (X)           (X)   \n",
       "29497           7.1           2.1           (X)           (X)           (X)   \n",
       "\n",
       "      HC03_EST_VC35 HC03_MOE_VC35  Year  \n",
       "29493           (X)           (X)  2009  \n",
       "29494           (X)           (X)  2009  \n",
       "29495           (X)           (X)  2009  \n",
       "29496           (X)           (X)  2009  \n",
       "29497           (X)           (X)  2009  \n",
       "\n",
       "[5 rows x 130 columns]"
      ]
     },
     "execution_count": 56,
     "metadata": {},
     "output_type": "execute_result"
    }
   ],
   "source": [
    "df_09_to_14.tail()\n",
    "#df_09_to_14 = df_09_to_14.loc[df_09_to_14[\"id\"]]"
   ]
  },
  {
   "cell_type": "code",
   "execution_count": null,
   "metadata": {
    "collapsed": false
   },
   "outputs": [],
   "source": [
    "len(df_09.columns)"
   ]
  },
  {
   "cell_type": "code",
   "execution_count": null,
   "metadata": {
    "collapsed": false
   },
   "outputs": [],
   "source": [
    "col_list = []\n",
    "for i in df_15.columns:\n",
    "    for j in df_09.columns:\n",
    "        if i == j:\n",
    "            col_list.append(i)"
   ]
  },
  {
   "cell_type": "code",
   "execution_count": null,
   "metadata": {
    "collapsed": false
   },
   "outputs": [],
   "source": [
    "len(col_list)"
   ]
  },
  {
   "cell_type": "code",
   "execution_count": 57,
   "metadata": {
    "collapsed": true
   },
   "outputs": [],
   "source": [
    "df_09_to_14.to_csv(\"Datasets/SNAP/ACS_09-14.csv\")"
   ]
  },
  {
   "cell_type": "code",
   "execution_count": null,
   "metadata": {
    "collapsed": true
   },
   "outputs": [],
   "source": []
  }
 ],
 "metadata": {
  "kernelspec": {
   "display_name": "Python 2",
   "language": "python",
   "name": "python2"
  },
  "language_info": {
   "codemirror_mode": {
    "name": "ipython",
    "version": 2
   },
   "file_extension": ".py",
   "mimetype": "text/x-python",
   "name": "python",
   "nbconvert_exporter": "python",
   "pygments_lexer": "ipython2",
   "version": "2.7.11"
  }
 },
 "nbformat": 4,
 "nbformat_minor": 0
}
