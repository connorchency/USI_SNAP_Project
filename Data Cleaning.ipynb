{
 "cells": [
  {
   "cell_type": "code",
   "execution_count": 3,
   "metadata": {
    "collapsed": true
   },
   "outputs": [],
   "source": [
    "import numpy as np, pandas as pd, pandasql as ps"
   ]
  },
  {
   "cell_type": "code",
   "execution_count": 80,
   "metadata": {
    "collapsed": false
   },
   "outputs": [],
   "source": [
    "df_09 = pd.read_csv(\"Datasets/SNAP/ACS_09_5YR_S2201_with_ann.csv\", skiprows = 1, low_memory= False)\n",
    "df_10 = pd.read_csv(\"Datasets/SNAP/ACS_10_5YR_S2201_with_ann.csv\", skiprows = 1, low_memory= False)\n",
    "df_11 = pd.read_csv(\"Datasets/SNAP/ACS_11_5YR_S2201_with_ann.csv\", skiprows = 1, low_memory= False)\n",
    "df_12 = pd.read_csv(\"Datasets/SNAP/ACS_12_5YR_S2201_with_ann.csv\", skiprows = 1, low_memory= False)\n",
    "df_13 = pd.read_csv(\"Datasets/SNAP/ACS_13_5YR_S2201_with_ann.csv\", skiprows = 1, low_memory= False)\n",
    "df_14 = pd.read_csv(\"Datasets/SNAP/ACS_14_5YR_S2201_with_ann.csv\", skiprows = 1, low_memory= False)\n",
    "df_15 = pd.read_csv(\"Datasets/SNAP/ACS_15_5YR_S2201_with_ann.csv\", skiprows = 1, low_memory= False)"
   ]
  },
  {
   "cell_type": "code",
   "execution_count": 71,
   "metadata": {
    "collapsed": false
   },
   "outputs": [
    {
     "data": {
      "text/plain": [
       "array([ True,  True,  True,  True,  True, False, False, False, False,\n",
       "       False, False, False, False, False, False, False, False, False,\n",
       "       False, False, False, False, False, False, False, False, False,\n",
       "       False, False, False, False, False, False, False, False, False,\n",
       "       False, False, False, False, False, False, False, False, False,\n",
       "       False, False, False, False, False, False, False, False, False,\n",
       "       False, False, False, False, False, False, False, False, False,\n",
       "       False, False, False, False, False, False, False, False, False,\n",
       "       False, False, False, False, False, False, False, False, False,\n",
       "       False, False, False, False, False, False, False, False, False,\n",
       "       False, False, False, False, False, False, False, False, False,\n",
       "       False, False, False, False, False, False, False, False, False,\n",
       "       False, False, False, False, False, False, False, False, False,\n",
       "       False, False, False, False, False, False, False, False, False,\n",
       "       False, False, False], dtype=bool)"
      ]
     },
     "execution_count": 71,
     "metadata": {},
     "output_type": "execute_result"
    }
   ],
   "source": [
    "df_15.columns[:len(df_11.columns)] == df_09.columns"
   ]
  },
  {
   "cell_type": "code",
   "execution_count": 66,
   "metadata": {
    "collapsed": false
   },
   "outputs": [
    {
     "ename": "AttributeError",
     "evalue": "'str' object has no attribute 'isin'",
     "output_type": "error",
     "traceback": [
      "\u001b[0;31m---------------------------------------------------------------------------\u001b[0m",
      "\u001b[0;31mAttributeError\u001b[0m                            Traceback (most recent call last)",
      "\u001b[0;32m<ipython-input-66-1e8128f44d27>\u001b[0m in \u001b[0;36m<module>\u001b[0;34m()\u001b[0m\n\u001b[1;32m      1\u001b[0m \u001b[0;32mfor\u001b[0m \u001b[0mi\u001b[0m \u001b[0;32min\u001b[0m \u001b[0mdf_09\u001b[0m\u001b[0;34m.\u001b[0m\u001b[0mcolumns\u001b[0m\u001b[0;34m:\u001b[0m\u001b[0;34m\u001b[0m\u001b[0m\n\u001b[1;32m      2\u001b[0m     \u001b[0mtotal\u001b[0m \u001b[0;34m=\u001b[0m \u001b[0;34m[\u001b[0m\u001b[0;34m]\u001b[0m\u001b[0;34m\u001b[0m\u001b[0m\n\u001b[0;32m----> 3\u001b[0;31m     \u001b[0;32mif\u001b[0m \u001b[0mi\u001b[0m\u001b[0;34m.\u001b[0m\u001b[0misin\u001b[0m\u001b[0;34m(\u001b[0m\u001b[0mdf_15\u001b[0m\u001b[0;34m.\u001b[0m\u001b[0mcolumns\u001b[0m\u001b[0;34m)\u001b[0m\u001b[0;34m:\u001b[0m\u001b[0;34m\u001b[0m\u001b[0m\n\u001b[0m\u001b[1;32m      4\u001b[0m         \u001b[0mtotal\u001b[0m\u001b[0;34m.\u001b[0m\u001b[0mappend\u001b[0m\u001b[0;34m(\u001b[0m\u001b[0mi\u001b[0m\u001b[0;34m)\u001b[0m\u001b[0;34m\u001b[0m\u001b[0m\n\u001b[1;32m      5\u001b[0m     \u001b[0mtotal\u001b[0m\u001b[0;34m\u001b[0m\u001b[0m\n",
      "\u001b[0;31mAttributeError\u001b[0m: 'str' object has no attribute 'isin'"
     ]
    }
   ],
   "source": [
    "for i in df_09.columns:\n",
    "    total = []\n",
    "    if i.isin(df_15.columns):\n",
    "        total.append(i)\n",
    "    total"
   ]
  },
  {
   "cell_type": "code",
   "execution_count": 60,
   "metadata": {
    "collapsed": false
   },
   "outputs": [
    {
     "name": "stdout",
     "output_type": "stream",
     "text": [
      "5\n"
     ]
    }
   ],
   "source": [
    "dfs = [df_10.columns, df_11.columns, df_12.columns, df_13.columns, df_14.columns, df_15.columns]\n",
    "dfs = [df_10, df_11, df_12, df_13, df_14, df_15]\n",
    "for i in range(len(dfs)):\n",
    "    try:\n",
    "        dfs[i].columns = df_09.columns\n",
    "    except ValueError: \n",
    "        print(str(i))"
   ]
  },
  {
   "cell_type": "code",
   "execution_count": 61,
   "metadata": {
    "collapsed": false
   },
   "outputs": [
    {
     "data": {
      "text/plain": [
       "array([ True,  True,  True,  True,  True,  True,  True,  True,  True,\n",
       "        True,  True,  True,  True,  True,  True,  True,  True,  True,\n",
       "        True,  True,  True,  True,  True,  True,  True,  True,  True,\n",
       "        True,  True,  True,  True,  True,  True,  True,  True,  True,\n",
       "        True,  True,  True,  True,  True,  True,  True,  True,  True,\n",
       "        True,  True,  True,  True,  True,  True,  True,  True,  True,\n",
       "        True,  True,  True,  True,  True,  True,  True,  True,  True,\n",
       "        True,  True,  True,  True,  True,  True,  True,  True,  True,\n",
       "        True,  True,  True,  True,  True,  True,  True,  True,  True,\n",
       "        True,  True,  True,  True,  True,  True,  True,  True,  True,\n",
       "        True,  True,  True,  True,  True,  True,  True,  True,  True,\n",
       "        True,  True,  True,  True,  True,  True,  True,  True,  True,\n",
       "        True,  True,  True,  True,  True,  True,  True,  True,  True,\n",
       "        True,  True,  True,  True,  True,  True,  True,  True,  True,\n",
       "        True,  True,  True], dtype=bool)"
      ]
     },
     "execution_count": 61,
     "metadata": {},
     "output_type": "execute_result"
    }
   ],
   "source": [
    "df_11.columns == df_09.columns"
   ]
  },
  {
   "cell_type": "code",
   "execution_count": 88,
   "metadata": {
    "collapsed": true
   },
   "outputs": [],
   "source": [
    "import string"
   ]
  },
  {
   "cell_type": "code",
   "execution_count": 89,
   "metadata": {
    "collapsed": false
   },
   "outputs": [
    {
     "name": "stdout",
     "output_type": "stream",
     "text": [
      "Id\n",
      "Id2\n",
      "Geography\n",
      "Total; Estimate; Households\n",
      "Total; Margin of Error; Households\n",
      "Total; Estimate; WORK STATUS - Families\n",
      "Total; Margin of Error; WORK STATUS - Families\n",
      "Total; Estimate; WORK STATUS - Families - No workers in past 12 months\n",
      "Total; Margin of Error; WORK STATUS - Families - No workers in past 12 months\n",
      "Total; Estimate; WORK STATUS - Families - 1 worker in past 12 months\n",
      "Total; Margin of Error; WORK STATUS - Families - 1 worker in past 12 months\n",
      "Total; Estimate; WORK STATUS - Families - 2 or more workers in past 12 months\n",
      "Total; Margin of Error; WORK STATUS - Families - 2 or more workers in past 12 months\n"
     ]
    }
   ],
   "source": [
    "for i in df_15.columns:\n",
    "    for j in df_09.columns:\n",
    "        if i == j:\n",
    "            print i"
   ]
  },
  {
   "cell_type": "code",
   "execution_count": 81,
   "metadata": {
    "collapsed": false
   },
   "outputs": [
    {
     "name": "stdout",
     "output_type": "stream",
     "text": [
      "Id\n",
      "Id2\n",
      "Geography\n",
      "Total; Estimate; Households\n",
      "Total; Margin of Error; Households\n",
      "Total; Estimate; POVERTY STATUS IN THE PAST 12 MONTHS - Below poverty level\n",
      "Total; Margin of Error; POVERTY STATUS IN THE PAST 12 MONTHS - Below poverty level\n",
      "Total; Estimate; DISABILITY STATUS - With one or more people with a disability\n",
      "Total; Margin of Error; DISABILITY STATUS - With one or more people with a disability\n",
      "Total; Estimate; RACE AND HISPANIC OR LATINO ORIGIN OF HOUSEHOLDER - Two or more races\n",
      "Total; Margin of Error; RACE AND HISPANIC OR LATINO ORIGIN OF HOUSEHOLDER - Two or more races\n",
      "Total; Estimate; Hispanic or Latino origin (of any race)\n",
      "Total; Margin of Error; Hispanic or Latino origin (of any race)\n",
      "Total; Estimate; White alone, not Hispanic or Latino\n",
      "Total; Margin of Error; White alone, not Hispanic or Latino\n",
      "Total; Estimate; WORK STATUS - Families\n",
      "Total; Margin of Error; WORK STATUS - Families\n"
     ]
    }
   ],
   "source": [
    "for i in df_15.columns:\n",
    "    for j in df_10.columns:\n",
    "        if i == j:\n",
    "            print i"
   ]
  },
  {
   "cell_type": "code",
   "execution_count": 82,
   "metadata": {
    "collapsed": false
   },
   "outputs": [
    {
     "name": "stdout",
     "output_type": "stream",
     "text": [
      "Id\n",
      "Id2\n",
      "Geography\n",
      "Total; Estimate; Households\n",
      "Total; Margin of Error; Households\n",
      "Total; Estimate; POVERTY STATUS IN THE PAST 12 MONTHS - Below poverty level\n",
      "Total; Margin of Error; POVERTY STATUS IN THE PAST 12 MONTHS - Below poverty level\n",
      "Total; Estimate; DISABILITY STATUS - With one or more people with a disability\n",
      "Total; Margin of Error; DISABILITY STATUS - With one or more people with a disability\n",
      "Total; Estimate; RACE AND HISPANIC OR LATINO ORIGIN OF HOUSEHOLDER - Two or more races\n",
      "Total; Margin of Error; RACE AND HISPANIC OR LATINO ORIGIN OF HOUSEHOLDER - Two or more races\n",
      "Total; Estimate; Hispanic or Latino origin (of any race)\n",
      "Total; Margin of Error; Hispanic or Latino origin (of any race)\n",
      "Total; Estimate; White alone, not Hispanic or Latino\n",
      "Total; Margin of Error; White alone, not Hispanic or Latino\n",
      "Total; Estimate; WORK STATUS - Families\n",
      "Total; Margin of Error; WORK STATUS - Families\n"
     ]
    }
   ],
   "source": [
    "for i in df_15.columns:\n",
    "    for j in df_11.columns:\n",
    "        if i == j:\n",
    "            print i"
   ]
  },
  {
   "cell_type": "code",
   "execution_count": 91,
   "metadata": {
    "collapsed": false
   },
   "outputs": [
    {
     "name": "stdout",
     "output_type": "stream",
     "text": [
      "Id\n",
      "Id2\n",
      "Geography\n",
      "Total; Estimate; Households\n",
      "Total; Margin of Error; Households\n",
      "Total; Estimate; POVERTY STATUS IN THE PAST 12 MONTHS - Below poverty level\n",
      "Total; Margin of Error; POVERTY STATUS IN THE PAST 12 MONTHS - Below poverty level\n",
      "Total; Estimate; DISABILITY STATUS - With one or more people with a disability\n",
      "Total; Margin of Error; DISABILITY STATUS - With one or more people with a disability\n",
      "Total; Estimate; RACE AND HISPANIC OR LATINO ORIGIN OF HOUSEHOLDER - Two or more races\n",
      "Total; Margin of Error; RACE AND HISPANIC OR LATINO ORIGIN OF HOUSEHOLDER - Two or more races\n",
      "Total; Estimate; Hispanic or Latino origin (of any race)\n",
      "Total; Margin of Error; Hispanic or Latino origin (of any race)\n",
      "Total; Estimate; White alone, not Hispanic or Latino\n",
      "Total; Margin of Error; White alone, not Hispanic or Latino\n",
      "Total; Estimate; WORK STATUS - Families\n",
      "Total; Margin of Error; WORK STATUS - Families\n"
     ]
    }
   ],
   "source": [
    "for i in df_15.columns:\n",
    "    for j in df_12.columns:\n",
    "        if i.translate(None, string.punctuation).lower() == j.translate(None, string.punctuation).lower():\n",
    "            print i"
   ]
  },
  {
   "cell_type": "code",
   "execution_count": 92,
   "metadata": {
    "collapsed": false
   },
   "outputs": [
    {
     "name": "stdout",
     "output_type": "stream",
     "text": [
      "Id\n",
      "Id2\n",
      "Geography\n",
      "Total; Estimate; Households\n",
      "Total; Margin of Error; Households\n",
      "Total; Estimate; WORK STATUS - Families\n",
      "Total; Margin of Error; WORK STATUS - Families\n",
      "Total; Estimate; WORK STATUS - Families - No workers in past 12 months\n",
      "Total; Margin of Error; WORK STATUS - Families - No workers in past 12 months\n",
      "Total; Estimate; WORK STATUS - Families - 1 worker in past 12 months\n",
      "Total; Margin of Error; WORK STATUS - Families - 1 worker in past 12 months\n",
      "Total; Estimate; WORK STATUS - Families - 2 or more workers in past 12 months\n",
      "Total; Margin of Error; WORK STATUS - Families - 2 or more workers in past 12 months\n"
     ]
    }
   ],
   "source": [
    "for i in df_15.columns:\n",
    "    for j in df_09.columns:\n",
    "        if i.translate(None, string.punctuation).lower() == j.translate(None, string.punctuation).lower():\n",
    "            print i"
   ]
  },
  {
   "cell_type": "code",
   "execution_count": null,
   "metadata": {
    "collapsed": true
   },
   "outputs": [],
   "source": []
  }
 ],
 "metadata": {
  "kernelspec": {
   "display_name": "Python 2",
   "language": "python",
   "name": "python2"
  },
  "language_info": {
   "codemirror_mode": {
    "name": "ipython",
    "version": 2
   },
   "file_extension": ".py",
   "mimetype": "text/x-python",
   "name": "python",
   "nbconvert_exporter": "python",
   "pygments_lexer": "ipython2",
   "version": "2.7.11"
  }
 },
 "nbformat": 4,
 "nbformat_minor": 0
}
