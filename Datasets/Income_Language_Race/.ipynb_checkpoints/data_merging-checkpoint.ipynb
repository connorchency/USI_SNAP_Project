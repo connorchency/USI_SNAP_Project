{
 "cells": [
  {
   "cell_type": "code",
   "execution_count": 5,
   "metadata": {
    "collapsed": true
   },
   "outputs": [],
   "source": [
    "import glob\n",
    "import os\n",
    "import numpy as np\n",
    "import pandas as pd"
   ]
  },
  {
   "cell_type": "code",
   "execution_count": 4,
   "metadata": {
    "collapsed": false
   },
   "outputs": [],
   "source": [
    "for zipfile in glob.glob('*.zip'):\n",
    "    os.system('mkdir ' + zipfile.split('.')[0])\n",
    "    os.system('mv ' + zipfile + ' ' + zipfile.split('.')[0] + '/')\n",
    "    os.system(\"unzip \" + './' + zipfile.split('.')[0] + '/' + zipfile + ' -d ' + './' + zipfile.split('.')[0] + '/')"
   ]
  },
  {
   "cell_type": "code",
   "execution_count": 24,
   "metadata": {
    "collapsed": true
   },
   "outputs": [],
   "source": [
    "path_income = './Income_ACS/'\n",
    "path_language = './Language_Spoken_At_Home_ACS/'\n",
    "path_race = './Race_ACS/'"
   ]
  },
  {
   "cell_type": "code",
   "execution_count": 25,
   "metadata": {
    "collapsed": true
   },
   "outputs": [],
   "source": [
    "year = ['09', '10', '11', '12', '13', '14', '15']"
   ]
  },
  {
   "cell_type": "code",
   "execution_count": null,
   "metadata": {
    "collapsed": true
   },
   "outputs": [],
   "source": [
    "# HC01_EST_VC02,\"Households; Estimate; Total - Less than $10,000\"\n",
    "# HC01_EST_VC03,\"Households; Estimate; Total - $10,000 to $14,999\"\n",
    "# ...\n",
    "# HC01_EST_VC11,\"Households; Estimate; Total - $200,000 or more\"\n",
    "# HC01_EST_VC12,Households; Estimate; Median income (dollars) for 2009\n",
    "# HC01_EST_VC13,Households; Estimate; Median income (dollars)"
   ]
  },
  {
   "cell_type": "code",
   "execution_count": 73,
   "metadata": {
    "collapsed": false
   },
   "outputs": [],
   "source": [
    "income_feature_str = 'HC01_EST_VC'\n",
    "ls_income_feature = ['GEO.id', 'GEO.id2']\n",
    "for i in range(102, 112):\n",
    "    ls_income_feature.append(income_feature_str+str(i)[1:])"
   ]
  },
  {
   "cell_type": "code",
   "execution_count": 103,
   "metadata": {
    "collapsed": false
   },
   "outputs": [],
   "source": [
    "ls_income = []\n",
    "for y in year:\n",
    "    df_income = pd.read_csv(path_income + 'ACS_'+ y + '_5YR_S1901_with_ann.csv')\n",
    "    if y == '09':\n",
    "        df_income = df_income[ls_income_feature+['HC01_EST_VC12']]\n",
    "        df_income.rename(columns={'HC01_EST_VC12': 'HC01_EST_VC13'}, inplace=True)\n",
    "    if y != '09':\n",
    "        df_income = df_income[ls_income_feature+['HC01_EST_VC13']]\n",
    "    df_income = df_income.drop(0)\n",
    "    df_income['year'] = '20' + y\n",
    "    ls_income.append(df_income)"
   ]
  },
  {
   "cell_type": "code",
   "execution_count": 107,
   "metadata": {
    "collapsed": false
   },
   "outputs": [],
   "source": [
    "df_income = pd.concat(ls_income)"
   ]
  },
  {
   "cell_type": "code",
   "execution_count": 117,
   "metadata": {
    "collapsed": false
   },
   "outputs": [
    {
     "data": {
      "text/plain": [
       "Index([u'GEO.id', u'GEO.id2', u'HC01_EST_VC02', u'HC01_EST_VC03',\n",
       "       u'HC01_EST_VC04', u'HC01_EST_VC05', u'HC01_EST_VC06', u'HC01_EST_VC07',\n",
       "       u'HC01_EST_VC08', u'HC01_EST_VC09', u'HC01_EST_VC10', u'HC01_EST_VC11',\n",
       "       u'HC01_EST_VC13', u'year'],\n",
       "      dtype='object')"
      ]
     },
     "execution_count": 117,
     "metadata": {},
     "output_type": "execute_result"
    }
   ],
   "source": [
    "df_income.columns"
   ]
  },
  {
   "cell_type": "code",
   "execution_count": 121,
   "metadata": {
    "collapsed": false
   },
   "outputs": [],
   "source": [
    "for i in df_income.iloc[:, 2:]:\n",
    "    df_income[i] = pd.to_numeric(df_income[i], errors='coerce')"
   ]
  },
  {
   "cell_type": "code",
   "execution_count": 123,
   "metadata": {
    "collapsed": false
   },
   "outputs": [],
   "source": [
    "df_income.to_csv('income.csv')"
   ]
  },
  {
   "cell_type": "code",
   "execution_count": null,
   "metadata": {
    "collapsed": true
   },
   "outputs": [],
   "source": []
  },
  {
   "cell_type": "code",
   "execution_count": null,
   "metadata": {
    "collapsed": true
   },
   "outputs": [],
   "source": []
  },
  {
   "cell_type": "code",
   "execution_count": null,
   "metadata": {
    "collapsed": true
   },
   "outputs": [],
   "source": []
  },
  {
   "cell_type": "code",
   "execution_count": 125,
   "metadata": {
    "collapsed": false
   },
   "outputs": [
    {
     "data": {
      "text/plain": [
       "Index([u'GEO.id', u'GEO.id2', u'GEO.display-label', u'HC01_EST_VC01',\n",
       "       u'HC01_MOE_VC01', u'HC02_EST_VC01', u'HC02_MOE_VC01', u'HC03_EST_VC01',\n",
       "       u'HC03_MOE_VC01', u'HC01_EST_VC02',\n",
       "       ...\n",
       "       u'HC02_EST_VC29', u'HC02_MOE_VC29', u'HC03_EST_VC29', u'HC03_MOE_VC29',\n",
       "       u'HC01_EST_VC30', u'HC01_MOE_VC30', u'HC02_EST_VC30', u'HC02_MOE_VC30',\n",
       "       u'HC03_EST_VC30', u'HC03_MOE_VC30'],\n",
       "      dtype='object', length=159)"
      ]
     },
     "execution_count": 125,
     "metadata": {},
     "output_type": "execute_result"
    }
   ],
   "source": [
    "pd.read_csv(path_language + 'ACS_'+ '10' + '_5YR_S1601_with_ann.csv').columns"
   ]
  },
  {
   "cell_type": "markdown",
   "metadata": {},
   "source": [
    "HC01_EST_VC02,Total; Estimate; Speak only English\n",
    "HC01_EST_VC03,Total; Estimate; Speak a language other than English\n",
    "HC01_EST_VC04,Total; Estimate; Speak a language other than English - Spanish or Spanish Creole\n",
    "HC01_EST_VC05,Total; Estimate; Speak a language other than English - Other Indo-European languages\n",
    "HC01_EST_VC06,Total; Estimate; Speak a language other than English - Asian and Pacific Island languages\n",
    "HC01_EST_VC07,Total; Estimate; Speak a language other than English - Other languages\n",
    "\n",
    "# 2015\n",
    "HC02_EST_VC02,Percent; Estimate; Speak only English\n",
    "HC02_EST_VC03,Percent; Estimate; Speak a language other than English\n",
    "HC02_EST_VC06,Percent; Estimate; SPEAK A LANGUAGE OTHER THAN ENGLISH - Spanish\n",
    "HC02_EST_VC10,Percent; Estimate; SPEAK A LANGUAGE OTHER THAN ENGLISH - Other Indo-European languages\n",
    "HC02_EST_VC14,Percent; Estimate; SPEAK A LANGUAGE OTHER THAN ENGLISH - Asian and Pacific Island languages\n",
    "HC02_EST_VC18,Percent; Estimate; SPEAK A LANGUAGE OTHER THAN ENGLISH - Other languages\n",
    "\n"
   ]
  },
  {
   "cell_type": "code",
   "execution_count": 126,
   "metadata": {
    "collapsed": true
   },
   "outputs": [],
   "source": [
    "language_feature_str = 'HC01_EST_VC'\n",
    "ls_language_feature = ['GEO.id', 'GEO.id2']\n",
    "for i in range(102, 108):\n",
    "    ls_language_feature.append(income_feature_str+str(i)[1:])"
   ]
  },
  {
   "cell_type": "code",
   "execution_count": 147,
   "metadata": {
    "collapsed": false
   },
   "outputs": [],
   "source": [
    "year = ['10', '11', '12', '13', '14', '15']\n",
    "ls_language = []\n",
    "for y in year:\n",
    "    if y != '15':\n",
    "        df_language = pd.read_csv(path_language + 'ACS_'+ y + '_5YR_S1601_with_ann.csv')\n",
    "        df_language = df_language[ls_language_feature]\n",
    "    if y == '15':\n",
    "        df_language = pd.read_csv(path_language + 'ACS_'+ y + '_5YR_S1601_with_ann.csv')\n",
    "        df_language = df_language[['GEO.id', 'GEO.id2', 'HC02_EST_VC02', 'HC02_EST_VC03', 'HC02_EST_VC06', \n",
    "                                  'HC02_EST_VC11', 'HC02_EST_VC14', 'HC02_EST_VC18']]\n",
    "        df_language.rename(columns={'HC02_EST_VC02': 'HC01_EST_VC02', \n",
    "                                    'HC02_EST_VC03': 'HC01_EST_VC03',\n",
    "                                    'HC02_EST_VC06': 'HC01_EST_VC04', \n",
    "                                    'HC02_EST_VC11': 'HC01_EST_VC05', \n",
    "                                    'HC02_EST_VC14': 'HC01_EST_VC06', \n",
    "                                    'HC02_EST_VC18': 'HC01_EST_VC07'}, inplace=True)\n",
    "    df_language = df_language.drop(0)\n",
    "    df_language['year'] = '20' + y\n",
    "    ls_language.append(df_language)"
   ]
  },
  {
   "cell_type": "code",
   "execution_count": 148,
   "metadata": {
    "collapsed": false
   },
   "outputs": [],
   "source": [
    "df_language = pd.concat(ls_language)"
   ]
  },
  {
   "cell_type": "code",
   "execution_count": 151,
   "metadata": {
    "collapsed": false
   },
   "outputs": [
    {
     "data": {
      "text/plain": [
       "34416"
      ]
     },
     "execution_count": 151,
     "metadata": {},
     "output_type": "execute_result"
    }
   ],
   "source": [
    "len(df_income)"
   ]
  },
  {
   "cell_type": "code",
   "execution_count": 152,
   "metadata": {
    "collapsed": false
   },
   "outputs": [
    {
     "data": {
      "text/plain": [
       "29509"
      ]
     },
     "execution_count": 152,
     "metadata": {},
     "output_type": "execute_result"
    }
   ],
   "source": [
    "len(df_language)"
   ]
  },
  {
   "cell_type": "code",
   "execution_count": 163,
   "metadata": {
    "collapsed": false
   },
   "outputs": [],
   "source": [
    "for i in df_language.iloc[:, 2:]:\n",
    "    df_language[i] = pd.to_numeric(df_language[i], errors='coerce')"
   ]
  },
  {
   "cell_type": "code",
   "execution_count": 164,
   "metadata": {
    "collapsed": true
   },
   "outputs": [],
   "source": [
    "df_language.to_csv('language_no09data.csv')"
   ]
  },
  {
   "cell_type": "code",
   "execution_count": null,
   "metadata": {
    "collapsed": true
   },
   "outputs": [],
   "source": []
  },
  {
   "cell_type": "code",
   "execution_count": null,
   "metadata": {
    "collapsed": true
   },
   "outputs": [],
   "source": []
  },
  {
   "cell_type": "code",
   "execution_count": 154,
   "metadata": {
    "collapsed": true
   },
   "outputs": [],
   "source": [
    "year = ['09', '10', '11', '12', '13', '14', '15']"
   ]
  },
  {
   "cell_type": "code",
   "execution_count": 155,
   "metadata": {
    "collapsed": true
   },
   "outputs": [],
   "source": [
    "race_feature_str = 'HD01_VD'\n",
    "ls_race_feature = ['GEO.id', 'GEO.id2']\n",
    "for i in range(101, 111):\n",
    "    ls_race_feature.append(race_feature_str+str(i)[1:])"
   ]
  },
  {
   "cell_type": "code",
   "execution_count": 158,
   "metadata": {
    "collapsed": false
   },
   "outputs": [],
   "source": [
    "ls_race = []\n",
    "for y in year:\n",
    "    df_race = pd.read_csv(path_race + 'ACS_'+ y + '_5YR_B02001_with_ann.csv')\n",
    "    df_race = df_race[ls_race_feature]\n",
    "    df_race = df_race.drop(0)\n",
    "    df_race['year'] = '20' + y\n",
    "    ls_race.append(df_race)"
   ]
  },
  {
   "cell_type": "code",
   "execution_count": 165,
   "metadata": {
    "collapsed": false
   },
   "outputs": [],
   "source": [
    "df_race = pd.concat(ls_race)"
   ]
  },
  {
   "cell_type": "code",
   "execution_count": 166,
   "metadata": {
    "collapsed": true
   },
   "outputs": [],
   "source": [
    "for i in df_race.iloc[:, 2:]:\n",
    "    df_race[i] = pd.to_numeric(df_race[i], errors='coerce')"
   ]
  },
  {
   "cell_type": "code",
   "execution_count": 168,
   "metadata": {
    "collapsed": false
   },
   "outputs": [],
   "source": [
    "df_race.to_csv('race.csv')"
   ]
  },
  {
   "cell_type": "code",
   "execution_count": null,
   "metadata": {
    "collapsed": true
   },
   "outputs": [],
   "source": []
  }
 ],
 "metadata": {
  "kernelspec": {
   "display_name": "myPy27",
   "language": "python",
   "name": "mypy27"
  },
  "language_info": {
   "codemirror_mode": {
    "name": "ipython",
    "version": 2
   },
   "file_extension": ".py",
   "mimetype": "text/x-python",
   "name": "python",
   "nbconvert_exporter": "python",
   "pygments_lexer": "ipython2",
   "version": "2.7.13"
  }
 },
 "nbformat": 4,
 "nbformat_minor": 0
}
