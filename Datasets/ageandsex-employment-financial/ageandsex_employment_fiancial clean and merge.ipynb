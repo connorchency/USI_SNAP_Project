{
 "cells": [
  {
   "cell_type": "code",
   "execution_count": 31,
   "metadata": {
    "collapsed": true
   },
   "outputs": [],
   "source": [
    "import pandas as pd\n",
    "import csv"
   ]
  },
  {
   "cell_type": "markdown",
   "metadata": {},
   "source": [
    "#### employment"
   ]
  },
  {
   "cell_type": "code",
   "execution_count": 112,
   "metadata": {
    "collapsed": false
   },
   "outputs": [],
   "source": [
    "df09 = pd.read_csv(\"Employment_Status_ACS/ACS_09_5YR_S2301_with_ann.csv\")\n",
    "df10 = pd.read_csv(\"Employment_Status_ACS/ACS_10_5YR_S2301_with_ann.csv\")\n",
    "df11 = pd.read_csv(\"Employment_Status_ACS/ACS_11_5YR_S2301_with_ann.csv\")\n",
    "df12 = pd.read_csv(\"Employment_Status_ACS/ACS_12_5YR_S2301_with_ann.csv\")\n",
    "df13 = pd.read_csv(\"Employment_Status_ACS/ACS_13_5YR_S2301_with_ann.csv\")\n",
    "df14 = pd.read_csv(\"Employment_Status_ACS/ACS_14_5YR_S2301_with_ann.csv\")\n",
    "df15 = pd.read_csv(\"Employment_Status_ACS/ACS_15_5YR_S2301_with_ann.csv\")"
   ]
  },
  {
   "cell_type": "code",
   "execution_count": 143,
   "metadata": {
    "collapsed": false
   },
   "outputs": [
    {
     "data": {
      "text/plain": [
       "[0,\n",
       " 1,\n",
       " 3,\n",
       " 5,\n",
       " 7,\n",
       " 9,\n",
       " 11,\n",
       " 13,\n",
       " 15,\n",
       " 17,\n",
       " 19,\n",
       " 21,\n",
       " 23,\n",
       " 25,\n",
       " 27,\n",
       " 29,\n",
       " 31,\n",
       " 33,\n",
       " 35,\n",
       " 37,\n",
       " 39,\n",
       " 41,\n",
       " 43,\n",
       " 45,\n",
       " 47,\n",
       " 49,\n",
       " 51,\n",
       " 53,\n",
       " 55,\n",
       " 57,\n",
       " 59,\n",
       " 61,\n",
       " 63,\n",
       " 65]"
      ]
     },
     "execution_count": 143,
     "metadata": {},
     "output_type": "execute_result"
    }
   ],
   "source": [
    "col = [[0]]\n",
    "col.append(range(1,67,2))\n",
    "col = reduce(lambda x,y:x+y, col)\n",
    "col"
   ]
  },
  {
   "cell_type": "code",
   "execution_count": 144,
   "metadata": {
    "collapsed": true
   },
   "outputs": [],
   "source": [
    "df09 = df09.iloc[:,col]\n",
    "df10 =df10.iloc[:,col]\n",
    "df11 = df11.iloc[:,col]\n",
    "df12 = df12.iloc[:,col]\n",
    "df13 = df13.iloc[:,col]c\n",
    "df14 = df14.iloc[:,col]\n",
    "df15 = df15.iloc[:,col]"
   ]
  },
  {
   "cell_type": "code",
   "execution_count": 159,
   "metadata": {
    "collapsed": false
   },
   "outputs": [
    {
     "data": {
      "text/plain": [
       "array([ True,  True,  True,  True,  True,  True,  True,  True,  True,\n",
       "        True,  True,  True,  True,  True,  True,  True,  True,  True,\n",
       "        True,  True,  True,  True,  True,  True,  True,  True,  True,\n",
       "        True,  True,  True,  True,  True,  True,  True,  True,  True,\n",
       "        True,  True,  True,  True,  True,  True,  True,  True,  True,\n",
       "        True,  True,  True,  True,  True,  True,  True,  True,  True,\n",
       "        True,  True,  True,  True,  True, False], dtype=bool)"
      ]
     },
     "execution_count": 159,
     "metadata": {},
     "output_type": "execute_result"
    }
   ],
   "source": [
    "df09.columns == df10.columns"
   ]
  },
  {
   "cell_type": "code",
   "execution_count": 146,
   "metadata": {
    "collapsed": false
   },
   "outputs": [],
   "source": [
    "df09.loc[:,'year']=2009\n",
    "df10.loc[:,'year']=2010\n",
    "df11.loc[:,'year']=2011\n",
    "df12.loc[:,'year']=2012\n",
    "df13.loc[:,'year']=2013\n",
    "df14.loc[:,'year']=2014\n",
    "df15.loc[:,'year']=2015"
   ]
  },
  {
   "cell_type": "code",
   "execution_count": 147,
   "metadata": {
    "collapsed": false
   },
   "outputs": [],
   "source": [
    "employment = pd.concat([df09,df10,df11,df12,df13,df14,df15])"
   ]
  },
  {
   "cell_type": "code",
   "execution_count": 148,
   "metadata": {
    "collapsed": true
   },
   "outputs": [],
   "source": [
    "employment.to_csv('employment09-15.csv')"
   ]
  },
  {
   "cell_type": "markdown",
   "metadata": {},
   "source": [
    "#### age and sex"
   ]
  },
  {
   "cell_type": "code",
   "execution_count": 173,
   "metadata": {
    "collapsed": false
   },
   "outputs": [],
   "source": [
    "df09 = pd.read_csv(\"Age_and_Sex_ACS/ACS_09_5YR_S0101_with_ann.csv\")\n",
    "df10 = pd.read_csv(\"Age_and_Sex_ACS/ACS_10_5YR_S0101_with_ann.csv\")\n",
    "df11 = pd.read_csv(\"Age_and_Sex_ACS/ACS_11_5YR_S0101_with_ann.csv\")\n",
    "df12 = pd.read_csv(\"Age_and_Sex_ACS/ACS_12_5YR_S0101_with_ann.csv\")\n",
    "df13 = pd.read_csv(\"Age_and_Sex_ACS/ACS_13_5YR_S0101_with_ann.csv\")\n",
    "df14 = pd.read_csv(\"Age_and_Sex_ACS/ACS_14_5YR_S0101_with_ann.csv\")\n",
    "df15 = pd.read_csv(\"Age_and_Sex_ACS/ACS_15_5YR_S0101_with_ann.csv\")"
   ]
  },
  {
   "cell_type": "code",
   "execution_count": 172,
   "metadata": {
    "collapsed": false
   },
   "outputs": [],
   "source": [
    "col = [[0]]\n",
    "col.append(range(1,116,2))\n",
    "col = reduce(lambda x,y:x+y, col)\n",
    "## col =[0,1,5,7,9,---,117]"
   ]
  },
  {
   "cell_type": "code",
   "execution_count": 174,
   "metadata": {
    "collapsed": false
   },
   "outputs": [],
   "source": [
    "df09 = df09.iloc[:,col]\n",
    "df10 =df10.iloc[:,col]\n",
    "df11 = df11.iloc[:,col]\n",
    "df12 = df12.iloc[:,col]\n",
    "df13 = df13.iloc[:,col]\n",
    "df14 = df14.iloc[:,col]\n",
    "df15 = df15.iloc[:,col]"
   ]
  },
  {
   "cell_type": "code",
   "execution_count": 184,
   "metadata": {
    "collapsed": false
   },
   "outputs": [],
   "source": [
    "df09.loc[:,'year']=2009\n",
    "df10.loc[:,'year']=2010\n",
    "df11.loc[:,'year']=2011\n",
    "df12.loc[:,'year']=2012\n",
    "df13.loc[:,'year']=2013\n",
    "df14.loc[:,'year']=2014\n",
    "df15.loc[:,'year']=2015"
   ]
  },
  {
   "cell_type": "code",
   "execution_count": 185,
   "metadata": {
    "collapsed": false
   },
   "outputs": [],
   "source": [
    "age_and_sex = pd.concat([df09,df10,df11,df12,df13,df14,df15])"
   ]
  },
  {
   "cell_type": "code",
   "execution_count": 186,
   "metadata": {
    "collapsed": true
   },
   "outputs": [],
   "source": [
    "age_and_sex.to_csv(\"age_and_sex09-15.csv\")"
   ]
  },
  {
   "cell_type": "markdown",
   "metadata": {},
   "source": [
    "#### financial"
   ]
  },
  {
   "cell_type": "code",
   "execution_count": 187,
   "metadata": {
    "collapsed": true
   },
   "outputs": [],
   "source": [
    "df09 = pd.read_csv(\"Financial_Characteristics_ACS/ACS_09_5YR_S2503_with_ann.csv\")\n",
    "df10 = pd.read_csv(\"Financial_Characteristics_ACS/ACS_10_5YR_S2503_with_ann.csv\")\n",
    "df11 = pd.read_csv(\"Financial_Characteristics_ACS/ACS_11_5YR_S2503_with_ann.csv\")\n",
    "df12 = pd.read_csv(\"Financial_Characteristics_ACS/ACS_12_5YR_S2503_with_ann.csv\")\n",
    "df13 = pd.read_csv(\"Financial_Characteristics_ACS/ACS_13_5YR_S2503_with_ann.csv\")\n",
    "df14 = pd.read_csv(\"Financial_Characteristics_ACS/ACS_14_5YR_S2503_with_ann.csv\")\n",
    "df15 = pd.read_csv(\"Financial_Characteristics_ACS/ACS_15_5YR_S2503_with_ann.csv\")"
   ]
  },
  {
   "cell_type": "code",
   "execution_count": 193,
   "metadata": {
    "collapsed": true
   },
   "outputs": [],
   "source": [
    "col = [[0]]\n",
    "col.append(range(1,75,2))\n",
    "col = reduce(lambda x,y:x+y, col)\n",
    "## col =[0,1,5,7,9,---,73]"
   ]
  },
  {
   "cell_type": "code",
   "execution_count": 195,
   "metadata": {
    "collapsed": false
   },
   "outputs": [],
   "source": [
    "df09 = df09.iloc[:,col]\n",
    "df10 =df10.iloc[:,col]\n",
    "df11 = df11.iloc[:,col]\n",
    "df12 = df12.iloc[:,col]\n",
    "df13 = df13.iloc[:,col]\n",
    "df14 = df14.iloc[:,col]\n",
    "df15 = df15.iloc[:,col]"
   ]
  },
  {
   "cell_type": "code",
   "execution_count": 196,
   "metadata": {
    "collapsed": false
   },
   "outputs": [],
   "source": [
    "df09.loc[:,'year']=2009\n",
    "df10.loc[:,'year']=2010\n",
    "df11.loc[:,'year']=2011\n",
    "df12.loc[:,'year']=2012\n",
    "df13.loc[:,'year']=2013\n",
    "df14.loc[:,'year']=2014\n",
    "df15.loc[:,'year']=2015"
   ]
  },
  {
   "cell_type": "code",
   "execution_count": 197,
   "metadata": {
    "collapsed": false
   },
   "outputs": [],
   "source": [
    "financial = pd.concat([df09,df10,df11,df12,df13,df14,df15])"
   ]
  },
  {
   "cell_type": "code",
   "execution_count": 198,
   "metadata": {
    "collapsed": true
   },
   "outputs": [],
   "source": [
    "financial.to_csv(\"finantial09-15.csv\")"
   ]
  }
 ],
 "metadata": {
  "anaconda-cloud": {},
  "kernelspec": {
   "display_name": "Python [conda root]",
   "language": "python",
   "name": "conda-root-py"
  },
  "language_info": {
   "codemirror_mode": {
    "name": "ipython",
    "version": 2
   },
   "file_extension": ".py",
   "mimetype": "text/x-python",
   "name": "python",
   "nbconvert_exporter": "python",
   "pygments_lexer": "ipython2",
   "version": "2.7.12"
  }
 },
 "nbformat": 4,
 "nbformat_minor": 1
}
